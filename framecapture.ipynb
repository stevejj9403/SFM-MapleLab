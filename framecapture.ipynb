{
 "cells": [
  {
   "cell_type": "code",
   "execution_count": null,
   "id": "66b156e8",
   "metadata": {},
   "outputs": [
    {
     "name": "stdout",
     "output_type": "stream",
     "text": [
      "frame per second =  30.0\n",
      "Creating..../balloonImgs/frame0.jpg\n",
      "Creating..../balloonImgs/frame5.jpg\n",
      "Creating..../balloonImgs/frame10.jpg\n",
      "Creating..../balloonImgs/frame15.jpg\n",
      "Creating..../balloonImgs/frame20.jpg\n",
      "Creating..../balloonImgs/frame25.jpg\n",
      "Creating..../balloonImgs/frame30.jpg\n",
      "Creating..../balloonImgs/frame35.jpg\n"
     ]
    }
   ],
   "source": [
    "#!pip install opencv-python\n",
    "#importing necessary files\n",
    "import cv2\n",
    "import os\n",
    "\n",
    "#Read the video from the specified Path, might need to convert it\n",
    "cam = cv2.VideoCapture('C:\\\\Users\\\\steve\\\\Vanderbilt\\\\Research\\\\Balloon\\\\balloon.mp4')\n",
    "print('frame per second = ', cam.get(cv2.CAP_PROP_FPS))\n",
    "\n",
    "try:     \n",
    "    # creating a folder named data\n",
    "    if not os.path.exists('balloonImgs'):\n",
    "        os.makedirs('balloonImgs')\n",
    "  \n",
    "# if not created then raise error\n",
    "except OSError:\n",
    "    print ('Error: Creating directory of data')\n",
    "  \n",
    "# frame\n",
    "currentframe = 0\n",
    "  \n",
    "while(True):\n",
    "      \n",
    "    # reading from frame\n",
    "    ret, frame = cam.read()\n",
    "    \n",
    "    if not ret:\n",
    "        break\n",
    "  \n",
    "    if currentframe%5 == 0:\n",
    "        # if video is still left continue creating images\n",
    "        name = './balloonImgs/frame' + str(currentframe) + '.jpg'\n",
    "        print ('Creating...' + name)\n",
    "  \n",
    "        # writing the extracted images\n",
    "        cv2.imwrite(name, frame)\n",
    "  \n",
    "    # increasing counter so that it will\n",
    "    # show how many frames are created\n",
    "    currentframe += 1\n",
    "  \n",
    "# Release all space and windows once done\n",
    "cam.release()\n",
    "cv2.destroyAllWindows()"
   ]
  },
  {
   "cell_type": "code",
   "execution_count": null,
   "id": "0c9027d4",
   "metadata": {},
   "outputs": [],
   "source": []
  },
  {
   "cell_type": "code",
   "execution_count": null,
   "id": "5cae800d",
   "metadata": {},
   "outputs": [],
   "source": []
  }
 ],
 "metadata": {
  "kernelspec": {
   "display_name": "Python 3 (ipykernel)",
   "language": "python",
   "name": "python3"
  },
  "language_info": {
   "codemirror_mode": {
    "name": "ipython",
    "version": 3
   },
   "file_extension": ".py",
   "mimetype": "text/x-python",
   "name": "python",
   "nbconvert_exporter": "python",
   "pygments_lexer": "ipython3",
   "version": "3.9.13"
  }
 },
 "nbformat": 4,
 "nbformat_minor": 5
}
