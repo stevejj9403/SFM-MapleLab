{
 "cells": [
  {
   "cell_type": "code",
   "execution_count": 1,
   "id": "6f9f3c42",
   "metadata": {},
   "outputs": [],
   "source": [
    "import subprocess\n",
    "import os\n",
    "\n",
    "def convert_mov_to_mp4(input_file_path, output_file_path):\n",
    "    \"\"\"\n",
    "    Convert a .mov file to a .mp4 file using FFmpeg.\n",
    "    \"\"\"\n",
    "    ffmpeg_cmd = ['ffmpeg', '-i', input_file_path, '-codec', 'copy', '-movflags', '+faststart', output_file_path]\n",
    "    subprocess.call(ffmpeg_cmd)\n",
    "    \n",
    "convert_mov_to_mp4(\"balloon.MOV\",\"balloon.mp4\")"
   ]
  },
  {
   "cell_type": "code",
   "execution_count": null,
   "id": "ae72e5a7",
   "metadata": {},
   "outputs": [],
   "source": []
  }
 ],
 "metadata": {
  "kernelspec": {
   "display_name": "Python 3 (ipykernel)",
   "language": "python",
   "name": "python3"
  },
  "language_info": {
   "codemirror_mode": {
    "name": "ipython",
    "version": 3
   },
   "file_extension": ".py",
   "mimetype": "text/x-python",
   "name": "python",
   "nbconvert_exporter": "python",
   "pygments_lexer": "ipython3",
   "version": "3.9.13"
  }
 },
 "nbformat": 4,
 "nbformat_minor": 5
}
