{
 "cells": [
  {
   "cell_type": "code",
   "execution_count": 6,
   "id": "746d4e57",
   "metadata": {},
   "outputs": [],
   "source": [
    "import cv2\n",
    "import numpy as np\n",
    "import os\n",
    "\n",
    "directory_path = \"C:\\\\Users\\\\steve\\\\Vanderbilt\\\\Research\\\\FrameCaptureTest\\\\data\"\n",
    "\n",
    "\n",
    "try:     \n",
    "# creating a folder named data\n",
    "    if not os.path.exists('colorFiltered'):\n",
    "        os.makedirs('colorFiltered')\n",
    "\n",
    "# if not created then raise error\n",
    "except OSError:\n",
    "    print ('Error: Creating directory of data')\n",
    "\n",
    "\n",
    "for filename in os.listdir(directory_path):\n",
    "    if filename.endswith(\".jpg\"): # or filename.endswith(\".png\"): \n",
    "        image_path = os.path.join(directory_path, filename)\n",
    "        img = cv2.imread(image_path)\n",
    "\n",
    "        # Convert the image to HSV color space\n",
    "        hsv_image = cv2.cvtColor(img, cv2.COLOR_BGR2HSV)\n",
    "\n",
    "        # Define the range of colors to be removed\n",
    "        lower_color = np.array([0, 0, 0])\n",
    "        upper_color = np.array([360, 100, 100])\n",
    "\n",
    "        # Create a mask of the color to be removed\n",
    "        mask = cv2.inRange(hsv_image, lower_color, upper_color)\n",
    "\n",
    "        # Apply the mask to the original image\n",
    "        result = cv2.bitwise_and(img, img, mask=mask)\n",
    "\n",
    "        # Save the result\n",
    "        cv2.imwrite('./colorFiltered/' + filename, img)\n",
    "        "
   ]
  },
  {
   "cell_type": "code",
   "execution_count": null,
   "id": "383072ad",
   "metadata": {},
   "outputs": [],
   "source": []
  }
 ],
 "metadata": {
  "kernelspec": {
   "display_name": "Python 3 (ipykernel)",
   "language": "python",
   "name": "python3"
  },
  "language_info": {
   "codemirror_mode": {
    "name": "ipython",
    "version": 3
   },
   "file_extension": ".py",
   "mimetype": "text/x-python",
   "name": "python",
   "nbconvert_exporter": "python",
   "pygments_lexer": "ipython3",
   "version": "3.9.13"
  }
 },
 "nbformat": 4,
 "nbformat_minor": 5
}
